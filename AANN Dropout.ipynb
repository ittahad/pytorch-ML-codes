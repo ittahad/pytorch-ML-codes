{
 "cells": [
  {
   "cell_type": "code",
   "execution_count": 1,
   "metadata": {
    "colab": {
     "base_uri": "https://localhost:8080/",
     "height": 34
    },
    "colab_type": "code",
    "executionInfo": {
     "elapsed": 1166,
     "status": "ok",
     "timestamp": 1555100721562,
     "user": {
      "displayName": "Ittahaduzzaman Akash",
      "photoUrl": "https://lh3.googleusercontent.com/-YERuM7ONE4k/AAAAAAAAAAI/AAAAAAAAAM8/wlRqU6U6u18/s64/photo.jpg",
      "userId": "11972750857132575782"
     },
     "user_tz": -360
    },
    "id": "FeFfkAp7HGSl",
    "outputId": "089a28f1-1aab-48aa-b9ab-e61f293ad3c3"
   },
   "outputs": [
    {
     "data": {
      "text/plain": [
       "<torch._C.Generator at 0x7f813e421670>"
      ]
     },
     "execution_count": 1,
     "metadata": {},
     "output_type": "execute_result"
    }
   ],
   "source": [
    "import torch\n",
    "import torchvision\n",
    "\n",
    "tabu1 = []\n",
    "tabu2 = []\n",
    "\n",
    "n_epochs = 10\n",
    "batch_size_train = 32\n",
    "batch_size_test = 1000\n",
    "learning_rate = 0.01\n",
    "momentum = 0.5\n",
    "log_interval = 10\n",
    "\n",
    "random_seed = 1\n",
    "torch.backends.cudnn.enabled = False\n",
    "torch.manual_seed(random_seed)"
   ]
  },
  {
   "cell_type": "code",
   "execution_count": 2,
   "metadata": {
    "colab": {},
    "colab_type": "code",
    "id": "kN22sGD4O1Re"
   },
   "outputs": [
    {
     "name": "stdout",
     "output_type": "stream",
     "text": [
      "<torch.utils.data.dataloader.DataLoader object at 0x7f813d150ef0>\n",
      "torch.Size([32, 1, 28, 28])\n"
     ]
    }
   ],
   "source": [
    "\n",
    "train_loader = torch.utils.data.DataLoader(\n",
    "  torchvision.datasets.FashionMNIST('./data', train=True, download=True,\n",
    "                             transform=torchvision.transforms.Compose([\n",
    "                               torchvision.transforms.ToTensor(),\n",
    "                             ])),\n",
    "  batch_size=batch_size_train, shuffle=True)\n",
    "\n",
    "test_loader = torch.utils.data.DataLoader(\n",
    "  torchvision.datasets.FashionMNIST('./data', train=False, download=True,\n",
    "                             transform=torchvision.transforms.Compose([\n",
    "                               torchvision.transforms.ToTensor(),\n",
    "                             ])),\n",
    "  batch_size=batch_size_test, shuffle=True)\n",
    "\n",
    "print(train_loader)\n",
    "examples = enumerate(train_loader)\n",
    "batch_idx, (example_data, example_targets) = next(examples)\n",
    "print(example_data.shape)\n"
   ]
  },
  {
   "cell_type": "code",
   "execution_count": 385,
   "metadata": {
    "colab": {},
    "colab_type": "code",
    "id": "z0Q1QfHSHGS6"
   },
   "outputs": [],
   "source": [
    "\n",
    "# train_loader = torch.utils.data.DataLoader(\n",
    "#   torchvision.datasets.CIFAR100('./data', train=True, download=True,\n",
    "#                              transform=torchvision.transforms.Compose([\n",
    "#                                torchvision.transforms.ToTensor(),\n",
    "#                                torchvision.transforms.Normalize(\n",
    "#                                  (0.1307,), (0.3081,))\n",
    "#                              ])),\n",
    "#   batch_size=batch_size_train, shuffle=True)\n",
    "\n",
    "# test_loader = torch.utils.data.DataLoader(\n",
    "#   torchvision.datasets.CIFAR100('./data', train=False, download=True,\n",
    "#                              transform=torchvision.transforms.Compose([\n",
    "#                                torchvision.transforms.ToTensor(),\n",
    "#                                torchvision.transforms.Normalize(\n",
    "#                                  (0.1307,), (0.3081,))\n",
    "#                              ])),\n",
    "#   batch_size=batch_size_test, shuffle=True)\n",
    "\n",
    "# print(train_loader)\n",
    "# examples = enumerate(train_loader)\n",
    "# batch_idx, (example_data, example_targets) = next(examples)\n",
    "# print(example_data.shape)\n"
   ]
  },
  {
   "cell_type": "code",
   "execution_count": 386,
   "metadata": {
    "colab": {
     "base_uri": "https://localhost:8080/",
     "height": 85
    },
    "colab_type": "code",
    "executionInfo": {
     "elapsed": 3741,
     "status": "ok",
     "timestamp": 1555100724268,
     "user": {
      "displayName": "Ittahaduzzaman Akash",
      "photoUrl": "https://lh3.googleusercontent.com/-YERuM7ONE4k/AAAAAAAAAAI/AAAAAAAAAM8/wlRqU6U6u18/s64/photo.jpg",
      "userId": "11972750857132575782"
     },
     "user_tz": -360
    },
    "id": "dm1RiT4cHGTK",
    "outputId": "96b13fdb-a5a1-4848-e9b0-9f97a839acae"
   },
   "outputs": [
    {
     "name": "stdout",
     "output_type": "stream",
     "text": [
      "Files already downloaded and verified\n",
      "Files already downloaded and verified\n",
      "<torch.utils.data.dataloader.DataLoader object at 0x7f93dd106da0>\n",
      "torch.Size([512, 3, 32, 32])\n"
     ]
    }
   ],
   "source": [
    "\n",
    "# train_loader = torch.utils.data.DataLoader(\n",
    "#   torchvision.datasets.CIFAR10('./cifar10_dataset', train=True, download=True,\n",
    "#                              transform=torchvision.transforms.Compose([\n",
    "#                                torchvision.transforms.ToTensor(),\n",
    "#                                torchvision.transforms.Normalize(\n",
    "#                                  (0.49137255, 0.48235294, 0.44666667), (0.24705882, 0.24352941, 0.26156863))\n",
    "#                              ])),\n",
    "#   batch_size=batch_size_train, shuffle=True)\n",
    "\n",
    "# test_loader = torch.utils.data.DataLoader(\n",
    "#   torchvision.datasets.CIFAR10('./cifar10_dataset', train=False, download=True,\n",
    "#                              transform=torchvision.transforms.Compose([\n",
    "#                                torchvision.transforms.ToTensor(),\n",
    "#                                torchvision.transforms.Normalize(\n",
    "#                                  (0.49137255, 0.48235294, 0.44666667), (0.24705882, 0.24352941, 0.26156863))\n",
    "#                              ])),\n",
    "#   batch_size=batch_size_test, shuffle=True)\n",
    "\n",
    "# print(train_loader)\n",
    "# examples = enumerate(train_loader)\n",
    "# batch_idx, (example_data, example_targets) = next(examples)\n",
    "# print(example_data.shape)\n"
   ]
  },
  {
   "cell_type": "code",
   "execution_count": 387,
   "metadata": {
    "colab": {
     "base_uri": "https://localhost:8080/",
     "height": 54
    },
    "colab_type": "code",
    "executionInfo": {
     "elapsed": 3692,
     "status": "ok",
     "timestamp": 1555100724270,
     "user": {
      "displayName": "Ittahaduzzaman Akash",
      "photoUrl": "https://lh3.googleusercontent.com/-YERuM7ONE4k/AAAAAAAAAAI/AAAAAAAAAM8/wlRqU6U6u18/s64/photo.jpg",
      "userId": "11972750857132575782"
     },
     "user_tz": -360
    },
    "id": "PwEvmG00HGTY",
    "outputId": "aa4b3134-b3d9-4037-9d76-5c134daaad0e"
   },
   "outputs": [],
   "source": [
    "\n",
    "# train_loader = torch.utils.data.DataLoader(\n",
    "#   torchvision.datasets.SVHN('./data', split='train', download=True,\n",
    "#                              transform=torchvision.transforms.Compose([\n",
    "#                                torchvision.transforms.ToTensor(),\n",
    "#                                torchvision.transforms.Normalize(\n",
    "#                                  (0.1307,), (0.3081,))\n",
    "#                              ])),\n",
    "#   batch_size=batch_size_train, shuffle=True)\n",
    "\n",
    "# test_loader = torch.utils.data.DataLoader(\n",
    "#   torchvision.datasets.SVHN('./data', split='test', download=True,\n",
    "#                              transform=torchvision.transforms.Compose([\n",
    "#                                torchvision.transforms.ToTensor(),\n",
    "#                                torchvision.transforms.Normalize(\n",
    "#                                  (0.1307,), (0.3081,))\n",
    "#                              ])),\n",
    "#   batch_size=batch_size_test, shuffle=True)\n",
    "\n",
    "# print(train_loader)\n",
    "# examples = enumerate(train_loader)\n",
    "# batch_idx, (example_data, example_targets) = next(examples)\n",
    "# print(example_data.shape)\n"
   ]
  },
  {
   "cell_type": "code",
   "execution_count": 388,
   "metadata": {
    "colab": {},
    "colab_type": "code",
    "id": "eV5zVHMxHGTj"
   },
   "outputs": [],
   "source": [
    "\n",
    "# train_loader = torch.utils.data.DataLoader(\n",
    "#   torchvision.datasets.MNIST('./data', train=True, download=True,\n",
    "#                              transform=torchvision.transforms.Compose([\n",
    "#                                torchvision.transforms.ToTensor(),\n",
    "#                              ])),\n",
    "#   batch_size=batch_size_train, shuffle=True)\n",
    "\n",
    "# test_loader = torch.utils.data.DataLoader(\n",
    "#   torchvision.datasets.MNIST('./data', train=False, download=True,\n",
    "#                              transform=torchvision.transforms.Compose([\n",
    "#                                torchvision.transforms.ToTensor(),\n",
    "#                              ])),\n",
    "#   batch_size=batch_size_test, shuffle=True)\n",
    "\n",
    "# print(train_loader)\n",
    "# examples = enumerate(train_loader)\n",
    "# batch_idx, (example_data, example_targets) = next(examples)\n",
    "# print(example_data.shape)\n",
    "\n"
   ]
  },
  {
   "cell_type": "code",
   "execution_count": 3,
   "metadata": {},
   "outputs": [],
   "source": [
    "train_size = int(0.8 * len(train_loader.dataset))\n",
    "test_size = len(train_loader.dataset) - train_size\n",
    "train_dataset, test_dataset = torch.utils.data.random_split(train_loader.dataset, [train_size, test_size])\n",
    "\n",
    "train_loader = torch.utils.data.DataLoader(train_dataset, batch_size=batch_size_train, \n",
    "                                           shuffle=True)\n",
    "val_loader = torch.utils.data.DataLoader(test_dataset, batch_size=batch_size_test,\n",
    "                                                shuffle=False)"
   ]
  },
  {
   "cell_type": "code",
   "execution_count": 4,
   "metadata": {},
   "outputs": [
    {
     "name": "stdout",
     "output_type": "stream",
     "text": [
      "tensor([0.2863])\n",
      "tensor([0.3206])\n"
     ]
    }
   ],
   "source": [
    "mean = 0.\n",
    "std = 0.\n",
    "nb_samples = 0.\n",
    "for data, _ in train_loader:\n",
    "    batch_samples = data.size(0)\n",
    "    data = data.view(batch_samples, data.size(1), -1)\n",
    "    mean += data.mean(2).sum(0)\n",
    "    std += data.std(2).sum(0)\n",
    "    nb_samples += batch_samples\n",
    "\n",
    "mean /= nb_samples\n",
    "std /= nb_samples\n",
    "\n",
    "train_loader.dataset.transform = torchvision.transforms.Compose([\n",
    "                               torchvision.transforms.ToTensor(),\n",
    "                               torchvision.transforms.Normalize(\n",
    "                                 mean, std)\n",
    "                             ])\n",
    "test_loader.dataset.transform = torchvision.transforms.Compose([\n",
    "                               torchvision.transforms.ToTensor(),\n",
    "                               torchvision.transforms.Normalize(\n",
    "                                 mean, std)\n",
    "                             ])\n",
    "\n",
    "print(mean)\n",
    "print(std)"
   ]
  },
  {
   "cell_type": "code",
   "execution_count": 5,
   "metadata": {
    "colab": {},
    "colab_type": "code",
    "id": "Dl7nDBdAHGTw"
   },
   "outputs": [],
   "source": [
    "def initMatrix(size, append_with):\n",
    "    ary = []\n",
    "    for i in range(0, size):\n",
    "        ary.append(append_with)\n",
    "    return ary\n"
   ]
  },
  {
   "cell_type": "code",
   "execution_count": 6,
   "metadata": {
    "colab": {},
    "colab_type": "code",
    "id": "U4oV8a1eVVSr"
   },
   "outputs": [],
   "source": [
    "tabu1 = initMatrix(4096, 1)\n",
    "tabu2 = initMatrix(4096, 1)\n",
    "\n",
    "layer1_dropout = 0.5\n",
    "layer2_dropout = 0.5\n",
    "\n",
    "layer1_diff = 1.0-layer1_dropout\n",
    "layer2_diff = 1.0-layer2_dropout\n",
    "\n",
    "#tabu3 = initMatrix(512)"
   ]
  },
  {
   "cell_type": "code",
   "execution_count": 393,
   "metadata": {
    "colab": {},
    "colab_type": "code",
    "id": "LrjISTO9HGT6"
   },
   "outputs": [],
   "source": [
    "from torch.nn.modules import Module\n",
    "from torch.nn import functional as F\n",
    "from torch._jit_internal import weak_module, weak_script_method\n",
    "\n",
    "class Dropout(Module):\n",
    "    def __init__(self, p=0.5, inplace=False):\n",
    "        super(Dropout, self).__init__()\n",
    "        if p < 0 or p > 1:\n",
    "            raise ValueError(\"dropout probability has to be between 0 and 1, \"\n",
    "                             \"but got {}\".format(p))\n",
    "        self.p = p\n",
    "        self.inplace = inplace\n",
    "        print(\"Updated Dropout: \" + str(p))\n",
    "\n",
    "    def forward(self, input):\n",
    "        varTemp = F.dropout(input, self.p, self.training, self.inplace)\n",
    "        return varTemp\n",
    "\n",
    "    def __repr__(self):\n",
    "        inplace_str = ', inplace' if self.inplace else ''\n",
    "        return self.__class__.__name__ + '(' \\\n",
    "            + 'p=' + str(self.p) \\\n",
    "            + inplace_str + ')'\n",
    "      \n",
    "class MyLinear(torch.nn.Linear):\n",
    "    def __init__(self, in_feats, out_feats, drop_p, t, bias=True):\n",
    "        super(MyLinear, self).__init__(in_feats, out_feats, bias=bias)\n",
    "        self.masker = Dropout(p=drop_p)\n",
    "        self.tabu = t\n",
    "        self.firstItr = True\n",
    "        self.historial_tabu_count = initMatrix(4096, 0)\n",
    "\n",
    "    def forward(self, input):\n",
    "       \n",
    "        masked_weight = self.masker(self.weight)\n",
    "        output = F.linear(input, masked_weight, self.bias)\n",
    "        \n",
    "        if self.firstItr == True:\n",
    "            \n",
    "            self.firstItr = False\n",
    "            for i in range(0, len(output[0])):\n",
    "                if output[0][i] < 0:\n",
    "                    # Neuron will be dropped\n",
    "                    self.tabu[i] = 0\n",
    "        else:\n",
    "            \n",
    "            temp_tabu = initMatrix(len(output[0]), 1)\n",
    "            \n",
    "            for i in range(0, len(output[0])):\n",
    "                if output[0][i] < 0:\n",
    "                    # Neuron will be dropped\n",
    "                    temp_tabu[i] = 0\n",
    "\n",
    "            for i in range(0, len(output[0])):\n",
    "                if (self.tabu[i] == 0 and temp_tabu[i] == 0):\n",
    "                    # Neuron will be dropped\n",
    "                    self.historial_tabu_count[i] = self.historial_tabu_count[i] + 1\n",
    "                    \n",
    "                    if self.historial_tabu_count[i] > 2:\n",
    "                        self.tabu[i] = 1\n",
    "                        output[0][i] = input[0][i]\n",
    "                        self.historial_tabu_count[i] = 0\n",
    "                    else:\n",
    "                        self.tabu[i] = temp_tabu[i]\n",
    "\n",
    "        return output\n",
    "    \n",
    "    def updateCurrentDropout(self, m):\n",
    "        tempM = '{:.2f}'.format(m)\n",
    "        self.masker = Dropout(p=float(tempM))  \n",
    "        \n"
   ]
  },
  {
   "cell_type": "code",
   "execution_count": 394,
   "metadata": {
    "colab": {},
    "colab_type": "code",
    "id": "Ei-XUUvmHGUO"
   },
   "outputs": [],
   "source": [
    "import torch.nn as nn\n",
    "import torch.nn.functional as F\n",
    "import torch.optim as optim\n",
    "\n",
    "class Net(nn.Module):\n",
    "    def __init__(self):\n",
    "        super(Net, self).__init__()\n",
    "       \n",
    "        # define the layers and their sizes, turn off bias\n",
    "        \n",
    "        self.fc1 = nn.Linear(3072, 4096)\n",
    "       \n",
    "        self.aD1 = MyLinear(4096, 4096, layer1_dropout, tabu1) #nn.Dropout(0.5) # # #      \n",
    "        \n",
    "        #self.d2 = nn.Dropout(0.5)\n",
    "        #self.aD2 = MyLinear(1024, 1024, layer2_dropout, tabu2) \n",
    "        #self.fc2 = nn.Linear(1024, 1024)\n",
    "        #self.d2 = Dropout(0.5) \n",
    "        #self.fc3 = nn.Linear(1024, 1024)\n",
    "        \n",
    "        #For CIFAR-10\n",
    "        #self.d3 = Dropout(0.3) \n",
    "        #self.fc3_1 = nn.Linear(512, 256)\n",
    "        \n",
    "        self.fc4 = nn.Linear(4096, 10)\n",
    "        \n",
    "\n",
    "    def forward(self, x):\n",
    "        x = x.view(-1, 3072)\n",
    "        \n",
    "        x = F.relu(self.fc1(x))\n",
    "        x = F.relu(self.aD1(x))\n",
    "        #x = F.relu(self.dT(x))\n",
    "        #x = F.relu(self.aD2(x))\n",
    "        \n",
    "        #x = F.relu(self.d2(x))\n",
    "        #x = F.relu(self.fc3(x))\n",
    "        \n",
    "        # for CIFAR-10\n",
    "        #x = F.relu(self.d3(x))\n",
    "        #x = F.relu(self.fc3_1(x))\n",
    "        x = self.fc4(x)\n",
    "        return F.log_softmax(x)\n",
    "      \n",
    "    def updateDropout(self, m):\n",
    "        self.aD1.updateCurrentDropout(m)\n",
    "        #self.aD2.updateCurrentDropout(m)"
   ]
  },
  {
   "cell_type": "code",
   "execution_count": 395,
   "metadata": {
    "colab": {
     "base_uri": "https://localhost:8080/",
     "height": 119
    },
    "colab_type": "code",
    "executionInfo": {
     "elapsed": 3585,
     "status": "ok",
     "timestamp": 1555100724305,
     "user": {
      "displayName": "Ittahaduzzaman Akash",
      "photoUrl": "https://lh3.googleusercontent.com/-YERuM7ONE4k/AAAAAAAAAAI/AAAAAAAAAM8/wlRqU6U6u18/s64/photo.jpg",
      "userId": "11972750857132575782"
     },
     "user_tz": -360
    },
    "id": "9jp8qjX7HGUa",
    "outputId": "2bcac8b6-9b99-496a-8df2-a0fbf0c3f40c"
   },
   "outputs": [
    {
     "name": "stdout",
     "output_type": "stream",
     "text": [
      "Updated Dropout: 0.5\n"
     ]
    }
   ],
   "source": [
    "network = Net()\n",
    "optimizer = optim.SGD(network.parameters(), lr=learning_rate)"
   ]
  },
  {
   "cell_type": "code",
   "execution_count": null,
   "metadata": {},
   "outputs": [],
   "source": []
  },
  {
   "cell_type": "code",
   "execution_count": 396,
   "metadata": {
    "colab": {},
    "colab_type": "code",
    "id": "HgE1I92yHGVA"
   },
   "outputs": [],
   "source": [
    "avg_train_loss = []\n",
    "avg_train_counter = []\n",
    "avg_test_loss = []\n",
    "avg_test_counter = []\n",
    "test_accuracy_list = []\n",
    "\n",
    "test_losses = []\n",
    "test_counter = []\n",
    "\n",
    "epoch_number = 0\n",
    "train_avg_loss = 0\n",
    "test_avg_loss = 0"
   ]
  },
  {
   "cell_type": "code",
   "execution_count": 397,
   "metadata": {
    "colab": {},
    "colab_type": "code",
    "id": "Pvp82UTxn0lh"
   },
   "outputs": [],
   "source": [
    "# 0 means negative\n",
    "# 1 means positive\n",
    "loss_type = 0\n",
    "previous_loss = 100.0\n",
    "sign_manipulator = 1\n",
    "\n",
    "pos_inc = 0\n",
    "neg_inc = 0"
   ]
  },
  {
   "cell_type": "code",
   "execution_count": 398,
   "metadata": {
    "colab": {},
    "colab_type": "code",
    "id": "aGOcLvQ2HGVG"
   },
   "outputs": [],
   "source": [
    "def train(epoch, layer1_dropout):\n",
    "  \n",
    "    train_losses = []\n",
    "    train_counter = []\n",
    "    \n",
    "    network.train()\n",
    "    for batch_idx, (data, target) in enumerate(train_loader):\n",
    "        optimizer.zero_grad()\n",
    "        output = network(data)\n",
    "        loss = F.nll_loss(output, target)\n",
    "        loss.backward()\n",
    "        optimizer.step()\n",
    "        if batch_idx % log_interval == 0:\n",
    "            print('Train Epoch: {} [{}/{} ({:.0f}%)]\\tLoss: {:.6f}'.format(\n",
    "                epoch, batch_idx * len(data), len(train_loader.dataset),\n",
    "                100. * batch_idx / len(train_loader), loss.item()))\n",
    "            train_losses.append(loss.item())\n",
    "            train_counter.append((batch_idx*64) + ((epoch-1)*len(train_loader.dataset)))\n",
    "            #torch.save(network.state_dict(), './results/cifar10_with_adaptive_model.pth')\n",
    "            #torch.save(optimizer.state_dict(), './results/cifar10_with_adaptive_optimizer.pth')\n",
    "            #test(epoch, False)\n",
    "            \n",
    "    sum = 0.0\n",
    "    for loss in train_losses:\n",
    "        sum = sum + loss\n",
    "    \n",
    "    current_loss = sum / len(train_losses)\n",
    "    \n",
    "    avg_train_loss.append(current_loss)\n",
    "    network.updateDropout(layer1_dropout)\n",
    "    return current_loss"
   ]
  },
  {
   "cell_type": "code",
   "execution_count": 399,
   "metadata": {
    "colab": {},
    "colab_type": "code",
    "id": "qwqm3AuCHGVM"
   },
   "outputs": [],
   "source": [
    "def test(epoch):\n",
    "    network.eval()\n",
    "    test_loss = 0\n",
    "    correct = 0\n",
    "    with torch.no_grad():\n",
    "        for data, target in val_loader:\n",
    "        #iterator = iter(test_loader)\n",
    "        #data, target= iterator.next() \n",
    "        \n",
    "            examples = enumerate(val_loader)\n",
    "            batch_idx, (example_data, example_targets) = next(examples)  \n",
    "            output = network(data)\n",
    "            test_loss += F.nll_loss(output, target, size_average=False).item()\n",
    "            pred = output.data.max(1, keepdim=True)[1]\n",
    "            correct += pred.eq(target.data.view_as(pred)).sum()\n",
    "\n",
    "    test_loss /= len(val_loader.dataset)\n",
    "    avg_test_loss.append(test_loss)\n",
    "    test_counter.append((batch_idx*64) + ((epoch-1)*len(val_loader.dataset)))\n",
    "    test_accuracy_list.append(100. * correct / len(val_loader.dataset))\n",
    "    \n",
    "    print('Test set: Avg. loss: {:.4f}, Accuracy: {}/{} ({:.0f}%)\\n'.format(\n",
    "        test_loss, correct, len(val_loader.dataset),\n",
    "        100. * correct / len(val_loader.dataset)))\n",
    "    return test_loss\n",
    "   "
   ]
  },
  {
   "cell_type": "code",
   "execution_count": 400,
   "metadata": {
    "colab": {
     "base_uri": "https://localhost:8080/",
     "height": 62988
    },
    "colab_type": "code",
    "executionInfo": {
     "elapsed": 434,
     "status": "ok",
     "timestamp": 1555120035478,
     "user": {
      "displayName": "Ittahaduzzaman Akash",
      "photoUrl": "https://lh3.googleusercontent.com/-YERuM7ONE4k/AAAAAAAAAAI/AAAAAAAAAM8/wlRqU6U6u18/s64/photo.jpg",
      "userId": "11972750857132575782"
     },
     "user_tz": -360
    },
    "id": "77ZTDVwnHGVS",
    "outputId": "17d3f9da-10ac-48de-9c5a-0f418e19446e",
    "scrolled": true
   },
   "outputs": [
    {
     "name": "stderr",
     "output_type": "stream",
     "text": [
      "/home/akash/anaconda3/lib/python3.7/site-packages/ipykernel_launcher.py:43: UserWarning: Implicit dimension choice for log_softmax has been deprecated. Change the call to include dim=X as an argument.\n"
     ]
    },
    {
     "name": "stdout",
     "output_type": "stream",
     "text": [
      "Train Epoch: 1 [0/40000 (0%)]\tLoss: 2.307273\n",
      "Train Epoch: 1 [5120/40000 (13%)]\tLoss: 2.245359\n",
      "Train Epoch: 1 [10240/40000 (25%)]\tLoss: 2.205729\n",
      "Train Epoch: 1 [15360/40000 (38%)]\tLoss: 2.160002\n",
      "Train Epoch: 1 [20480/40000 (51%)]\tLoss: 2.142907\n",
      "Train Epoch: 1 [25600/40000 (63%)]\tLoss: 2.090257\n",
      "Train Epoch: 1 [30720/40000 (76%)]\tLoss: 2.085212\n",
      "Train Epoch: 1 [35840/40000 (89%)]\tLoss: 2.055532\n",
      "Updated Dropout: 0.5\n",
      "Test set: Avg. loss: 2.0336, Accuracy: 2997/10000 (29%)\n",
      "\n",
      "Train Loss: 2.161533832550049\n",
      "Val Loss: 2.033576025390625\n",
      "Train Epoch: 2 [0/40000 (0%)]\tLoss: 2.066922\n",
      "Train Epoch: 2 [5120/40000 (13%)]\tLoss: 2.010533\n",
      "Train Epoch: 2 [10240/40000 (25%)]\tLoss: 2.039568\n",
      "Train Epoch: 2 [15360/40000 (38%)]\tLoss: 1.986106\n",
      "Train Epoch: 2 [20480/40000 (51%)]\tLoss: 1.978395\n",
      "Train Epoch: 2 [25600/40000 (63%)]\tLoss: 1.957860\n",
      "Train Epoch: 2 [30720/40000 (76%)]\tLoss: 1.934228\n",
      "Train Epoch: 2 [35840/40000 (89%)]\tLoss: 1.928351\n",
      "Updated Dropout: 0.5\n",
      "Test set: Avg. loss: 1.9159, Accuracy: 3363/10000 (33%)\n",
      "\n",
      "Train Loss: 1.9877452701330185\n",
      "Val Loss: 1.9159370483398437\n",
      "Train Epoch: 3 [0/40000 (0%)]\tLoss: 1.973301\n",
      "Train Epoch: 3 [5120/40000 (13%)]\tLoss: 1.921678\n",
      "Train Epoch: 3 [10240/40000 (25%)]\tLoss: 1.891749\n",
      "Train Epoch: 3 [15360/40000 (38%)]\tLoss: 1.962245\n",
      "Train Epoch: 3 [20480/40000 (51%)]\tLoss: 1.897218\n",
      "Train Epoch: 3 [25600/40000 (63%)]\tLoss: 1.910747\n",
      "Train Epoch: 3 [30720/40000 (76%)]\tLoss: 1.857175\n",
      "Train Epoch: 3 [35840/40000 (89%)]\tLoss: 1.873196\n",
      "Updated Dropout: 0.5\n",
      "Test set: Avg. loss: 1.8423, Accuracy: 3607/10000 (36%)\n",
      "\n",
      "Train Loss: 1.910913571715355\n",
      "Val Loss: 1.8423398559570312\n",
      "Train Epoch: 4 [0/40000 (0%)]\tLoss: 1.811971\n",
      "Train Epoch: 4 [5120/40000 (13%)]\tLoss: 1.901086\n"
     ]
    },
    {
     "ename": "KeyboardInterrupt",
     "evalue": "",
     "output_type": "error",
     "traceback": [
      "\u001b[0;31m---------------------------------------------------------------------------\u001b[0m",
      "\u001b[0;31mKeyboardInterrupt\u001b[0m                         Traceback (most recent call last)",
      "\u001b[0;32m<ipython-input-400-a82b426e8416>\u001b[0m in \u001b[0;36m<module>\u001b[0;34m\u001b[0m\n\u001b[1;32m      6\u001b[0m \u001b[0;32mfor\u001b[0m \u001b[0mepoch\u001b[0m \u001b[0;32min\u001b[0m \u001b[0mrange\u001b[0m\u001b[0;34m(\u001b[0m\u001b[0;36m1\u001b[0m\u001b[0;34m,\u001b[0m \u001b[0mn_epochs\u001b[0m \u001b[0;34m+\u001b[0m \u001b[0;36m1\u001b[0m\u001b[0;34m)\u001b[0m\u001b[0;34m:\u001b[0m\u001b[0;34m\u001b[0m\u001b[0;34m\u001b[0m\u001b[0m\n\u001b[1;32m      7\u001b[0m \u001b[0;34m\u001b[0m\u001b[0m\n\u001b[0;32m----> 8\u001b[0;31m     \u001b[0mtrain_loss\u001b[0m \u001b[0;34m=\u001b[0m \u001b[0mtrain\u001b[0m\u001b[0;34m(\u001b[0m\u001b[0mepoch\u001b[0m\u001b[0;34m,\u001b[0m \u001b[0mabs\u001b[0m\u001b[0;34m(\u001b[0m\u001b[0mlayer1_dropout\u001b[0m\u001b[0;34m)\u001b[0m\u001b[0;34m)\u001b[0m\u001b[0;34m\u001b[0m\u001b[0;34m\u001b[0m\u001b[0m\n\u001b[0m\u001b[1;32m      9\u001b[0m     \u001b[0mval_loss\u001b[0m \u001b[0;34m=\u001b[0m \u001b[0mtest\u001b[0m\u001b[0;34m(\u001b[0m\u001b[0mepoch\u001b[0m\u001b[0;34m)\u001b[0m\u001b[0;34m\u001b[0m\u001b[0;34m\u001b[0m\u001b[0m\n\u001b[1;32m     10\u001b[0m \u001b[0;34m\u001b[0m\u001b[0m\n",
      "\u001b[0;32m<ipython-input-398-e78ec222f86a>\u001b[0m in \u001b[0;36mtrain\u001b[0;34m(epoch, layer1_dropout)\u001b[0m\n\u001b[1;32m      9\u001b[0m         \u001b[0moutput\u001b[0m \u001b[0;34m=\u001b[0m \u001b[0mnetwork\u001b[0m\u001b[0;34m(\u001b[0m\u001b[0mdata\u001b[0m\u001b[0;34m)\u001b[0m\u001b[0;34m\u001b[0m\u001b[0;34m\u001b[0m\u001b[0m\n\u001b[1;32m     10\u001b[0m         \u001b[0mloss\u001b[0m \u001b[0;34m=\u001b[0m \u001b[0mF\u001b[0m\u001b[0;34m.\u001b[0m\u001b[0mnll_loss\u001b[0m\u001b[0;34m(\u001b[0m\u001b[0moutput\u001b[0m\u001b[0;34m,\u001b[0m \u001b[0mtarget\u001b[0m\u001b[0;34m)\u001b[0m\u001b[0;34m\u001b[0m\u001b[0;34m\u001b[0m\u001b[0m\n\u001b[0;32m---> 11\u001b[0;31m         \u001b[0mloss\u001b[0m\u001b[0;34m.\u001b[0m\u001b[0mbackward\u001b[0m\u001b[0;34m(\u001b[0m\u001b[0;34m)\u001b[0m\u001b[0;34m\u001b[0m\u001b[0;34m\u001b[0m\u001b[0m\n\u001b[0m\u001b[1;32m     12\u001b[0m         \u001b[0moptimizer\u001b[0m\u001b[0;34m.\u001b[0m\u001b[0mstep\u001b[0m\u001b[0;34m(\u001b[0m\u001b[0;34m)\u001b[0m\u001b[0;34m\u001b[0m\u001b[0;34m\u001b[0m\u001b[0m\n\u001b[1;32m     13\u001b[0m         \u001b[0;32mif\u001b[0m \u001b[0mbatch_idx\u001b[0m \u001b[0;34m%\u001b[0m \u001b[0mlog_interval\u001b[0m \u001b[0;34m==\u001b[0m \u001b[0;36m0\u001b[0m\u001b[0;34m:\u001b[0m\u001b[0;34m\u001b[0m\u001b[0;34m\u001b[0m\u001b[0m\n",
      "\u001b[0;32m~/anaconda3/lib/python3.7/site-packages/torch/tensor.py\u001b[0m in \u001b[0;36mbackward\u001b[0;34m(self, gradient, retain_graph, create_graph)\u001b[0m\n\u001b[1;32m    100\u001b[0m                 \u001b[0mproducts\u001b[0m\u001b[0;34m.\u001b[0m \u001b[0mDefaults\u001b[0m \u001b[0mto\u001b[0m\u001b[0;31m \u001b[0m\u001b[0;31m`\u001b[0m\u001b[0;31m`\u001b[0m\u001b[0;32mFalse\u001b[0m\u001b[0;31m`\u001b[0m\u001b[0;31m`\u001b[0m\u001b[0;34m.\u001b[0m\u001b[0;34m\u001b[0m\u001b[0;34m\u001b[0m\u001b[0m\n\u001b[1;32m    101\u001b[0m         \"\"\"\n\u001b[0;32m--> 102\u001b[0;31m         \u001b[0mtorch\u001b[0m\u001b[0;34m.\u001b[0m\u001b[0mautograd\u001b[0m\u001b[0;34m.\u001b[0m\u001b[0mbackward\u001b[0m\u001b[0;34m(\u001b[0m\u001b[0mself\u001b[0m\u001b[0;34m,\u001b[0m \u001b[0mgradient\u001b[0m\u001b[0;34m,\u001b[0m \u001b[0mretain_graph\u001b[0m\u001b[0;34m,\u001b[0m \u001b[0mcreate_graph\u001b[0m\u001b[0;34m)\u001b[0m\u001b[0;34m\u001b[0m\u001b[0;34m\u001b[0m\u001b[0m\n\u001b[0m\u001b[1;32m    103\u001b[0m \u001b[0;34m\u001b[0m\u001b[0m\n\u001b[1;32m    104\u001b[0m     \u001b[0;32mdef\u001b[0m \u001b[0mregister_hook\u001b[0m\u001b[0;34m(\u001b[0m\u001b[0mself\u001b[0m\u001b[0;34m,\u001b[0m \u001b[0mhook\u001b[0m\u001b[0;34m)\u001b[0m\u001b[0;34m:\u001b[0m\u001b[0;34m\u001b[0m\u001b[0;34m\u001b[0m\u001b[0m\n",
      "\u001b[0;32m~/anaconda3/lib/python3.7/site-packages/torch/autograd/__init__.py\u001b[0m in \u001b[0;36mbackward\u001b[0;34m(tensors, grad_tensors, retain_graph, create_graph, grad_variables)\u001b[0m\n\u001b[1;32m     88\u001b[0m     Variable._execution_engine.run_backward(\n\u001b[1;32m     89\u001b[0m         \u001b[0mtensors\u001b[0m\u001b[0;34m,\u001b[0m \u001b[0mgrad_tensors\u001b[0m\u001b[0;34m,\u001b[0m \u001b[0mretain_graph\u001b[0m\u001b[0;34m,\u001b[0m \u001b[0mcreate_graph\u001b[0m\u001b[0;34m,\u001b[0m\u001b[0;34m\u001b[0m\u001b[0;34m\u001b[0m\u001b[0m\n\u001b[0;32m---> 90\u001b[0;31m         allow_unreachable=True)  # allow_unreachable flag\n\u001b[0m\u001b[1;32m     91\u001b[0m \u001b[0;34m\u001b[0m\u001b[0m\n\u001b[1;32m     92\u001b[0m \u001b[0;34m\u001b[0m\u001b[0m\n",
      "\u001b[0;31mKeyboardInterrupt\u001b[0m: "
     ]
    }
   ],
   "source": [
    "init_dropout = 0.5\n",
    "loss_counter = 0\n",
    "sum_loss = 0\n",
    "firstItr = True\n",
    "\n",
    "for epoch in range(1, n_epochs + 1):\n",
    "                             \n",
    "    train_loss = train(epoch, abs(layer1_dropout))\n",
    "    val_loss = test(epoch)\n",
    "    \n",
    "    if(firstItr == True):\n",
    "        previous_loss = val_loss\n",
    "        firstItr = False\n",
    "    \n",
    "    print(\"Train Loss: \" + str(train_loss))\n",
    "    print(\"Val Loss: \" + str(val_loss))\n",
    "    \n",
    "    if(val_loss >= train_loss):\n",
    "        \n",
    "        print(\"Previous Loss: \" + str(previous_loss))\n",
    "        diff = val_loss - train_loss\n",
    "        \n",
    "        if(diff > previous_loss):\n",
    "            layer1_dropout = layer1_dropout - 0.05\n",
    "            if(layer1_dropout < 0 or layer1_dropout > 0.9):\n",
    "                layer1_dropout = init_dropout\n",
    "                init_dropout = init_dropout - 0.1\n",
    "                if(init_dropout < 0.0):\n",
    "                    init_dropout = 0.5\n",
    "                    \n",
    "        if(loss_counter < 3):\n",
    "            sum_loss = sum_loss + diff\n",
    "            loss_counter = loss_counter + 1\n",
    "        if(loss_counter == 3):\n",
    "            previous_loss = sum_loss / 3\n",
    "            loss_counter = 0\n",
    "            sum_loss = 0\n",
    "            print(\"Previous Loss Updated\")\n",
    "        \n",
    "        print(\"Diff: \" + str(diff))\n",
    "              "
   ]
  },
  {
   "cell_type": "code",
   "execution_count": 382,
   "metadata": {
    "colab": {
     "base_uri": "https://localhost:8080/",
     "height": 555
    },
    "colab_type": "code",
    "executionInfo": {
     "elapsed": 127,
     "status": "ok",
     "timestamp": 1555120035488,
     "user": {
      "displayName": "Ittahaduzzaman Akash",
      "photoUrl": "https://lh3.googleusercontent.com/-YERuM7ONE4k/AAAAAAAAAAI/AAAAAAAAAM8/wlRqU6U6u18/s64/photo.jpg",
      "userId": "11972750857132575782"
     },
     "user_tz": -360
    },
    "id": "L4FxFNbjHGVZ",
    "outputId": "0411d6b8-21c6-4de5-9665-effd754db809",
    "scrolled": true
   },
   "outputs": [
    {
     "data": {
      "text/plain": [
       "<matplotlib.collections.PathCollection at 0x7f93ddc42fd0>"
      ]
     },
     "execution_count": 382,
     "metadata": {},
     "output_type": "execute_result"
    },
    {
     "data": {
      "image/png": "[encoded data removed]",
      "text/plain": [
       "<Figure size 432x288 with 1 Axes>"
      ]
     },
     "metadata": {
      "needs_background": "light"
     },
     "output_type": "display_data"
    }
   ],
   "source": [
    "import matplotlib.pyplot as plt\n",
    "\n",
    "fig = plt.figure()\n",
    "\n",
    "final_train_counter = []\n",
    "final_train_losses = []\n",
    "final_test_counter = []\n",
    "final_test_losses = []\n",
    "\n",
    "for i in range(0, n_epochs):\n",
    "    final_train_counter.append(i)\n",
    "\n",
    "\"\"\"\n",
    "for i in range(0, len(avg_train_loss)-1, 30):\n",
    "    index = int(i/10)\n",
    "    final_train_counter.append(train_counter[i])\n",
    "    final_train_losses.append((train_losses[i] + train_losses[i+1]) / 2)\n",
    "    final_test_counter.append(train_counter[i])\n",
    "    final_test_losses.append((test_losses[i] + test_losses[i+1]) / 2)\n",
    "\n",
    "final_train_counter.append(train_counter[len(train_counter)-1]) \n",
    "final_train_losses.append(train_losses[len(train_counter)-1])\n",
    "final_test_counter.append(train_counter[len(train_counter)-1])\n",
    "final_test_losses.append(test_losses[len(train_counter)-1])    \n",
    "    \n",
    "plt.plot(len(avg_train_loss), avg_train_loss, color='blue')\n",
    "plt.scatter(avg_train_loss[-1], avg_train_loss[-1], color='blue')\n",
    "plt.plot(len(avg_test_losses), avg_test_losses, color='red')\n",
    "plt.scatter(avg_test_losses[-1], avg_test_losses[-1], color='red')\n",
    "\n",
    "# print(len(test_counter))\n",
    "# print(len(test_losses))\n",
    "\n",
    "plt.legend(['Train Loss', 'Test Loss'], loc='upper right')\n",
    "plt.xlabel('number of training examples seen')\n",
    "plt.ylabel('negative log likelihood loss')\n",
    "\"\"\"\n",
    "\n",
    "plt.plot(final_train_counter, avg_train_loss, color='blue')\n",
    "plt.scatter(final_train_counter[-1], avg_train_loss[-1], color='blue')\n",
    "plt.plot(final_train_counter, avg_test_loss, color='red')\n",
    "plt.scatter(final_train_counter[-1], avg_test_loss[-1], color='red')\n",
    "# plt.plot(final_train_counter, test_accuracy_list, color='orange')"
   ]
  },
  {
   "cell_type": "code",
   "execution_count": 361,
   "metadata": {
    "colab": {
     "base_uri": "https://localhost:8080/",
     "height": 555
    },
    "colab_type": "code",
    "executionInfo": {
     "elapsed": 99,
     "status": "ok",
     "timestamp": 1555120035490,
     "user": {
      "displayName": "Ittahaduzzaman Akash",
      "photoUrl": "https://lh3.googleusercontent.com/-YERuM7ONE4k/AAAAAAAAAAI/AAAAAAAAAM8/wlRqU6U6u18/s64/photo.jpg",
      "userId": "11972750857132575782"
     },
     "user_tz": -360
    },
    "id": "w0u5NUsFj-mt",
    "outputId": "f35db4b7-bbd9-4403-be65-2db789f6ce9d"
   },
   "outputs": [
    {
     "data": {
      "text/plain": [
       "[<matplotlib.lines.Line2D at 0x7f93ddf38be0>]"
      ]
     },
     "execution_count": 361,
     "metadata": {},
     "output_type": "execute_result"
    },
    {
     "data": {
      "image/png": "[encoded data removed]",
      "text/plain": [
       "<Figure size 432x288 with 1 Axes>"
      ]
     },
     "metadata": {
      "needs_background": "light"
     },
     "output_type": "display_data"
    }
   ],
   "source": [
    "import matplotlib.pyplot as plt\n",
    "\n",
    "fig = plt.figure()\n",
    "\n",
    "\n",
    "last_acc = []\n",
    "last_counter = []\n",
    "index = 0\n",
    "for acc in range(0, len(test_accuracy_list)) :\n",
    "    last_acc.append(test_accuracy_list[acc])\n",
    "    last_counter.append(final_train_counter[index])\n",
    "    index = index + 1\n",
    "\n",
    "plt.plot(last_counter, last_acc, color='red')\n"
   ]
  },
  {
   "cell_type": "code",
   "execution_count": 201,
   "metadata": {},
   "outputs": [],
   "source": [
    "import matplotlib.pyplot as plt\n",
    "import plotter\n",
    "\n",
    "acc1 = plotter.SavedAccuracy(name='mnist64_adaptive_tabu_acc.pkl')\n",
    "acc1.saveGraph(last_acc, last_counter)\n",
    "#a, c = acc1.loadGraph()\n",
    "#plt.plot(c, a, color='red')\n"
   ]
  },
  {
   "cell_type": "code",
   "execution_count": null,
   "metadata": {},
   "outputs": [],
   "source": []
  },
  {
   "cell_type": "code",
   "execution_count": 207,
   "metadata": {
    "colab": {
     "base_uri": "https://localhost:8080/",
     "height": 5411
    },
    "colab_type": "code",
    "executionInfo": {
     "elapsed": 69,
     "status": "ok",
     "timestamp": 1555120035491,
     "user": {
      "displayName": "Ittahaduzzaman Akash",
      "photoUrl": "https://lh3.googleusercontent.com/-YERuM7ONE4k/AAAAAAAAAAI/AAAAAAAAAM8/wlRqU6U6u18/s64/photo.jpg",
      "userId": "11972750857132575782"
     },
     "user_tz": -360
    },
    "id": "bJa35oEyHGVf",
    "outputId": "81af4c56-3cdb-424f-eac1-4244aa4cbd0a",
    "scrolled": false
   },
   "outputs": [
    {
     "name": "stderr",
     "output_type": "stream",
     "text": [
      "/home/akash/anaconda3/lib/python3.7/site-packages/ipykernel_launcher.py:43: UserWarning: Implicit dimension choice for log_softmax has been deprecated. Change the call to include dim=X as an argument.\n"
     ]
    },
    {
     "data": {
      "image/png": "[encoded data removed]",
      "text/plain": [
       "<Figure size 432x288 with 6 Axes>"
      ]
     },
     "metadata": {},
     "output_type": "display_data"
    },
    {
     "data": {
      "image/png": "[encoded data removed]",
      "text/plain": [
       "<Figure size 432x288 with 6 Axes>"
      ]
     },
     "metadata": {},
     "output_type": "display_data"
    },
    {
     "data": {
      "image/png": "[encoded data removed]",
      "text/plain": [
       "<Figure size 432x288 with 6 Axes>"
      ]
     },
     "metadata": {},
     "output_type": "display_data"
    },
    {
     "data": {
      "image/png": "[encoded data removed]",
      "text/plain": [
       "<Figure size 432x288 with 6 Axes>"
      ]
     },
     "metadata": {},
     "output_type": "display_data"
    },
    {
     "data": {
      "image/png": "[encoded data removed]",
      "text/plain": [
       "<Figure size 432x288 with 6 Axes>"
      ]
     },
     "metadata": {},
     "output_type": "display_data"
    },
    {
     "data": {
      "image/png": "[encoded data removed]",
      "text/plain": [
       "<Figure size 432x288 with 6 Axes>"
      ]
     },
     "metadata": {},
     "output_type": "display_data"
    },
    {
     "data": {
      "image/png": "[encoded data removed]",
      "text/plain": [
       "<Figure size 432x288 with 6 Axes>"
      ]
     },
     "metadata": {},
     "output_type": "display_data"
    },
    {
     "data": {
      "image/png": "[encoded data removed]",
      "text/plain": [
       "<Figure size 432x288 with 6 Axes>"
      ]
     },
     "metadata": {},
     "output_type": "display_data"
    },
    {
     "data": {
      "image/png": "[encoded data removed]",
      "text/plain": [
       "<Figure size 432x288 with 6 Axes>"
      ]
     },
     "metadata": {},
     "output_type": "display_data"
    },
    {
     "data": {
      "image/png": "[encoded data removed]",
      "text/plain": [
       "<Figure size 432x288 with 6 Axes>"
      ]
     },
     "metadata": {},
     "output_type": "display_data"
    }
   ],
   "source": [
    "examples = enumerate(test_loader)\n",
    "for i in range(0, 10):\n",
    "    batch_idx, (example_data, example_targets) = next(examples)\n",
    "  \n",
    "    with torch.no_grad():\n",
    "        output = network(example_data)\n",
    "\n",
    "        fig = plt.figure()\n",
    "        for i in range(6):\n",
    "            plt.subplot(2,3,i+1)\n",
    "            plt.tight_layout()\n",
    "            plt.imshow(example_data[i][0], cmap='gray', interpolation='none')\n",
    "            plt.title(\"Prediction: {}\".format(\n",
    "                output.data.max(1, keepdim=True)[1][i].item()))\n",
    "            plt.xticks([])\n",
    "            plt.yticks([])\n"
   ]
  },
  {
   "cell_type": "code",
   "execution_count": 221,
   "metadata": {
    "colab": {
     "base_uri": "https://localhost:8080/",
     "height": 54
    },
    "colab_type": "code",
    "executionInfo": {
     "elapsed": 42,
     "status": "ok",
     "timestamp": 1555120035493,
     "user": {
      "displayName": "Ittahaduzzaman Akash",
      "photoUrl": "https://lh3.googleusercontent.com/-YERuM7ONE4k/AAAAAAAAAAI/AAAAAAAAAM8/wlRqU6U6u18/s64/photo.jpg",
      "userId": "11972750857132575782"
     },
     "user_tz": -360
    },
    "id": "Adlhca7pHGVo",
    "outputId": "1d8db010-cb5c-47d2-c0da-3289476ff96e"
   },
   "outputs": [
    {
     "data": {
      "text/plain": [
       "'\\nimport matplotlib.pyplot as plt\\n\\ncontinued_network = Net()\\ncontinued_optimizer = optim.SGD(continued_network.parameters(), lr=learning_rate,\\n                                momentum=momentum)\\n\\nnetwork_state_dict = torch.load(\\'./results/model.pth\\')\\ncontinued_network.load_state_dict(network_state_dict)\\n\\noptimizer_state_dict = torch.load(\\'./results/optimizer.pth\\')\\ncontinued_optimizer.load_state_dict(optimizer_state_dict)\\n\\nexamples = enumerate(test_loader)\\nfor i in range(0, 2):\\n    batch_idx, (example_data, example_targets) = next(examples)\\n\\n    with torch.no_grad():\\n        output = continued_network(example_data)\\n\\n        fig = plt.figure()\\n        for i in range(6):\\n            plt.subplot(2,3,i+1)\\n            plt.tight_layout()\\n            plt.imshow(example_data[i][0], cmap=\\'gray\\', interpolation=\\'none\\')\\n            plt.title(\"Prediction: {}\".format(\\n                output.data.max(1, keepdim=True)[1][i].item()))\\n            \\n            plt.xticks([])\\n            plt.yticks([])\\n            \\n'"
      ]
     },
     "execution_count": 221,
     "metadata": {
      "tags": []
     },
     "output_type": "execute_result"
    },
    {
     "data": {
      "text/plain": [
       "'\\nimport matplotlib.pyplot as plt\\n\\ncontinued_network = Net()\\ncontinued_optimizer = optim.SGD(continued_network.parameters(), lr=learning_rate,\\n                                momentum=momentum)\\n\\nnetwork_state_dict = torch.load(\\'./results/model.pth\\')\\ncontinued_network.load_state_dict(network_state_dict)\\n\\noptimizer_state_dict = torch.load(\\'./results/optimizer.pth\\')\\ncontinued_optimizer.load_state_dict(optimizer_state_dict)\\n\\nexamples = enumerate(test_loader)\\nfor i in range(0, 2):\\n    batch_idx, (example_data, example_targets) = next(examples)\\n\\n    with torch.no_grad():\\n        output = continued_network(example_data)\\n\\n        fig = plt.figure()\\n        for i in range(6):\\n            plt.subplot(2,3,i+1)\\n            plt.tight_layout()\\n            plt.imshow(example_data[i][0], cmap=\\'gray\\', interpolation=\\'none\\')\\n            plt.title(\"Prediction: {}\".format(\\n                output.data.max(1, keepdim=True)[1][i].item()))\\n            \\n            plt.xticks([])\\n            plt.yticks([])\\n            \\n'"
      ]
     },
     "execution_count": 221,
     "metadata": {
      "tags": []
     },
     "output_type": "execute_result"
    }
   ],
   "source": [
    "# Reloading a already saved model\n",
    "'''\n",
    "import matplotlib.pyplot as plt\n",
    "\n",
    "continued_network = Net()\n",
    "continued_optimizer = optim.SGD(continued_network.parameters(), lr=learning_rate,\n",
    "                                momentum=momentum)\n",
    "\n",
    "network_state_dict = torch.load('./results/model.pth')\n",
    "continued_network.load_state_dict(network_state_dict)\n",
    "\n",
    "optimizer_state_dict = torch.load('./results/optimizer.pth')\n",
    "continued_optimizer.load_state_dict(optimizer_state_dict)\n",
    "\n",
    "examples = enumerate(test_loader)\n",
    "for i in range(0, 2):\n",
    "    batch_idx, (example_data, example_targets) = next(examples)\n",
    "\n",
    "    with torch.no_grad():\n",
    "        output = continued_network(example_data)\n",
    "\n",
    "        fig = plt.figure()\n",
    "        for i in range(6):\n",
    "            plt.subplot(2,3,i+1)\n",
    "            plt.tight_layout()\n",
    "            plt.imshow(example_data[i][0], cmap='gray', interpolation='none')\n",
    "            plt.title(\"Prediction: {}\".format(\n",
    "                output.data.max(1, keepdim=True)[1][i].item()))\n",
    "            \n",
    "            plt.xticks([])\n",
    "            plt.yticks([])\n",
    "            \n",
    "'''"
   ]
  },
  {
   "cell_type": "code",
   "execution_count": 0,
   "metadata": {
    "colab": {},
    "colab_type": "code",
    "id": "SLlTgHruHGVt"
   },
   "outputs": [],
   "source": []
  }
 ],
 "metadata": {
  "colab": {
   "collapsed_sections": [],
   "name": "Copy of Adaptive NN Dropout.ipynb",
   "provenance": [
    {
     "file_id": "1GUow23zovvlLuNkMUkHz4zJzfehTEQl9",
     "timestamp": 1554798714117
    },
    {
     "file_id": "1zhoOPcwneUN3foYHbrjQWttdHus2hocz",
     "timestamp": 1554750187224
    },
    {
     "file_id": "1vRXEE00eunJuYh-9toP6O6KlXIJHwTjG",
     "timestamp": 1554747644571
    }
   ],
   "version": "0.3.2"
  },
  "kernelspec": {
   "display_name": "Python 3",
   "language": "python",
   "name": "python3"
  },
  "language_info": {
   "codemirror_mode": {
    "name": "ipython",
    "version": 3
   },
   "file_extension": ".py",
   "mimetype": "text/x-python",
   "name": "python",
   "nbconvert_exporter": "python",
   "pygments_lexer": "ipython3",
   "version": "3.7.1"
  }
 },
 "nbformat": 4,
 "nbformat_minor": 1
}
