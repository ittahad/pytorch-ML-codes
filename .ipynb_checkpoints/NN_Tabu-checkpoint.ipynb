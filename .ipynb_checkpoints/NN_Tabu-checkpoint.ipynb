{
 "cells": [
  {
   "cell_type": "code",
   "execution_count": 37,
   "metadata": {
    "colab": {
     "base_uri": "https://localhost:8080/",
     "height": 34
    },
    "colab_type": "code",
    "id": "FeFfkAp7HGSl",
    "outputId": "82bf2058-8413-4145-fd6c-2ec6a4a60c64"
   },
   "outputs": [
    {
     "data": {
      "text/plain": [
       "<torch._C.Generator at 0x7f0694094650>"
      ]
     },
     "execution_count": 37,
     "metadata": {},
     "output_type": "execute_result"
    }
   ],
   "source": [
    "import torch\n",
    "import torchvision\n",
    "\n",
    "tabu1 = []\n",
    "tabu2 = []\n",
    "\n",
    "n_epochs = 100\n",
    "batch_size_train = 512\n",
    "batch_size_test = 1000\n",
    "learning_rate = 0.01\n",
    "momentum = 0.5\n",
    "log_interval = 10\n",
    "\n",
    "random_seed = 1\n",
    "torch.backends.cudnn.enabled = False\n",
    "torch.manual_seed(random_seed)"
   ]
  },
  {
   "cell_type": "code",
   "execution_count": 38,
   "metadata": {
    "colab": {
     "base_uri": "https://localhost:8080/",
     "height": 51
    },
    "colab_type": "code",
    "id": "kN22sGD4O1Re",
    "outputId": "7d9ed803-09e5-48b0-9d77-6da6bba6ea5d"
   },
   "outputs": [],
   "source": [
    "\n",
    "# train_loader = torch.utils.data.DataLoader(\n",
    "#   torchvision.datasets.FashionMNIST('./data', train=True, download=True,\n",
    "#                              transform=torchvision.transforms.Compose([\n",
    "#                                torchvision.transforms.ToTensor(),\n",
    "#                                torchvision.transforms.Normalize(\n",
    "#                                  (0.1307,), (0.3081,))\n",
    "#                              ])),\n",
    "#   batch_size=batch_size_train, shuffle=True)\n",
    "\n",
    "# test_loader = torch.utils.data.DataLoader(\n",
    "#   torchvision.datasets.FashionMNIST('./data', train=False, download=True,\n",
    "#                              transform=torchvision.transforms.Compose([\n",
    "#                                torchvision.transforms.ToTensor(),\n",
    "#                                torchvision.transforms.Normalize(\n",
    "#                                  (0.1307,), (0.3081,))\n",
    "#                              ])),\n",
    "#   batch_size=batch_size_test, shuffle=True)\n",
    "\n",
    "# print(train_loader)\n",
    "# examples = enumerate(train_loader)\n",
    "# batch_idx, (example_data, example_targets) = next(examples)\n",
    "# print(example_data.shape)\n"
   ]
  },
  {
   "cell_type": "code",
   "execution_count": 39,
   "metadata": {
    "colab": {},
    "colab_type": "code",
    "id": "z0Q1QfHSHGS6"
   },
   "outputs": [],
   "source": [
    "\n",
    "# train_loader = torch.utils.data.DataLoader(\n",
    "#   torchvision.datasets.CIFAR100('./data', train=True, download=True,\n",
    "#                              transform=torchvision.transforms.Compose([\n",
    "#                                torchvision.transforms.ToTensor(),\n",
    "#                                torchvision.transforms.Normalize(\n",
    "#                                  (0.1307,), (0.3081,))\n",
    "#                              ])),\n",
    "#   batch_size=batch_size_train, shuffle=True)\n",
    "\n",
    "# test_loader = torch.utils.data.DataLoader(\n",
    "#   torchvision.datasets.CIFAR100('./data', train=False, download=True,\n",
    "#                              transform=torchvision.transforms.Compose([\n",
    "#                                torchvision.transforms.ToTensor(),\n",
    "#                                torchvision.transforms.Normalize(\n",
    "#                                  (0.1307,), (0.3081,))\n",
    "#                              ])),\n",
    "#   batch_size=batch_size_test, shuffle=True)\n",
    "\n",
    "# print(train_loader)\n",
    "# examples = enumerate(train_loader)\n",
    "# batch_idx, (example_data, example_targets) = next(examples)\n",
    "# print(example_data.shape)\n"
   ]
  },
  {
   "cell_type": "code",
   "execution_count": 40,
   "metadata": {
    "colab": {},
    "colab_type": "code",
    "id": "dm1RiT4cHGTK"
   },
   "outputs": [
    {
     "name": "stdout",
     "output_type": "stream",
     "text": [
      "Files already downloaded and verified\n",
      "Files already downloaded and verified\n",
      "<torch.utils.data.dataloader.DataLoader object at 0x7f065f6a9438>\n",
      "torch.Size([512, 3, 32, 32])\n"
     ]
    }
   ],
   "source": [
    "\n",
    "train_loader = torch.utils.data.DataLoader(\n",
    "  torchvision.datasets.CIFAR10('./data', train=True, download=True,\n",
    "                             transform=torchvision.transforms.Compose([\n",
    "                               torchvision.transforms.ToTensor(),\n",
    "                               torchvision.transforms.Normalize(\n",
    "                                 (0.49137255, 0.48235294, 0.44666667), (0.24705882, 0.24352941, 0.26156863))\n",
    "                             ])),\n",
    "  batch_size=batch_size_train, shuffle=True)\n",
    "\n",
    "test_loader = torch.utils.data.DataLoader(\n",
    "  torchvision.datasets.CIFAR10('./data', train=False, download=True,\n",
    "                             transform=torchvision.transforms.Compose([\n",
    "                               torchvision.transforms.ToTensor(),\n",
    "                               torchvision.transforms.Normalize(\n",
    "                                 (0.49137255, 0.48235294, 0.44666667), (0.24705882, 0.24352941, 0.26156863))\n",
    "                             ])),\n",
    "  batch_size=batch_size_test, shuffle=True)\n",
    "\n",
    "print(train_loader)\n",
    "examples = enumerate(train_loader)\n",
    "batch_idx, (example_data, example_targets) = next(examples)\n",
    "print(example_data.shape)\n"
   ]
  },
  {
   "cell_type": "code",
   "execution_count": 41,
   "metadata": {
    "colab": {},
    "colab_type": "code",
    "id": "PwEvmG00HGTY"
   },
   "outputs": [],
   "source": [
    "\n",
    "# train_loader = torch.utils.data.DataLoader(\n",
    "#   torchvision.datasets.SVHN('./data', split='train', download=True,\n",
    "#                              transform=torchvision.transforms.Compose([\n",
    "#                                torchvision.transforms.ToTensor(),\n",
    "#                                torchvision.transforms.Normalize(\n",
    "#                                  (0.1307,), (0.3081,))\n",
    "#                              ])),\n",
    "#   batch_size=batch_size_train, shuffle=True)\n",
    "\n",
    "# test_loader = torch.utils.data.DataLoader(\n",
    "#   torchvision.datasets.SVHN('./data', split='test', download=True,\n",
    "#                              transform=torchvision.transforms.Compose([\n",
    "#                                torchvision.transforms.ToTensor(),\n",
    "#                                torchvision.transforms.Normalize(\n",
    "#                                  (0.1307,), (0.3081,))\n",
    "#                              ])),\n",
    "#   batch_size=batch_size_test, shuffle=True)\n",
    "\n",
    "# print(train_loader)\n",
    "# examples = enumerate(train_loader)\n",
    "# batch_idx, (example_data, example_targets) = next(examples)\n",
    "# print(example_data.shape)\n"
   ]
  },
  {
   "cell_type": "code",
   "execution_count": 42,
   "metadata": {
    "colab": {},
    "colab_type": "code",
    "id": "eV5zVHMxHGTj"
   },
   "outputs": [],
   "source": [
    "\n",
    "# train_loader = torch.utils.data.DataLoader(\n",
    "#   torchvision.datasets.MNIST('./data', train=True, download=True,\n",
    "#                              transform=torchvision.transforms.Compose([\n",
    "#                                torchvision.transforms.ToTensor(),\n",
    "#                                torchvision.transforms.Normalize(\n",
    "#                                  (0.1307,), (0.3081,))\n",
    "#                              ])),\n",
    "#   batch_size=batch_size_train, shuffle=True)\n",
    "\n",
    "# test_loader = torch.utils.data.DataLoader(\n",
    "#   torchvision.datasets.MNIST('./data', train=False, download=True,\n",
    "#                              transform=torchvision.transforms.Compose([\n",
    "#                                torchvision.transforms.ToTensor(),\n",
    "#                                torchvision.transforms.Normalize(\n",
    "#                                  (0.1307,), (0.3081,))\n",
    "#                              ])),\n",
    "#   batch_size=batch_size_test, shuffle=True)\n",
    "\n",
    "# print(train_loader)\n",
    "# examples = enumerate(train_loader)\n",
    "# batch_idx, (example_data, example_targets) = next(examples)\n",
    "# print(example_data.shape)\n"
   ]
  },
  {
   "cell_type": "code",
   "execution_count": 43,
   "metadata": {
    "colab": {},
    "colab_type": "code",
    "id": "Dl7nDBdAHGTw"
   },
   "outputs": [],
   "source": [
    "def initMatrix(size):\n",
    "    ary = []\n",
    "    for i in range(0, size):\n",
    "        ary.append(1)\n",
    "    return ary\n"
   ]
  },
  {
   "cell_type": "code",
   "execution_count": 53,
   "metadata": {
    "colab": {},
    "colab_type": "code",
    "id": "LrjISTO9HGT6"
   },
   "outputs": [],
   "source": [
    "from torch.nn.modules import Module\n",
    "from torch.nn import functional as F\n",
    "from torch._jit_internal import weak_module, weak_script_method\n",
    "\n",
    "class Dropout(Module):\n",
    "    def __init__(self, p=0.5, inplace=False):\n",
    "        super(Dropout, self).__init__()\n",
    "        if p < 0 or p > 1:\n",
    "            raise ValueError(\"dropout probability has to be between 0 and 1, \"\n",
    "                             \"but got {}\".format(p))\n",
    "        self.p = p\n",
    "        self.inplace = inplace\n",
    "\n",
    "    def forward(self, input):\n",
    "        varTemp = F.dropout(input, self.p, self.training, self.inplace)\n",
    "        return varTemp\n",
    "\n",
    "    def __repr__(self):\n",
    "        inplace_str = ', inplace' if self.inplace else ''\n",
    "        return self.__class__.__name__ + '(' \\\n",
    "            + 'p=' + str(self.p) \\\n",
    "            + inplace_str + ')'\n",
    "    \n",
    "class MyLinear(torch.nn.Linear):\n",
    "    def __init__(self, in_feats, out_feats, drop_p, t, bias=True):\n",
    "        super(MyLinear, self).__init__(in_feats, out_feats, bias=bias)\n",
    "        self.masker = Dropout(p=drop_p)\n",
    "        self.tabu = t\n",
    "        self.firstItr = True\n",
    "\n",
    "    def forward(self, input):\n",
    "\n",
    "        masked_weight = self.masker(self.weight)\n",
    "        #print(masked_weight)\n",
    "        output = F.linear(input, masked_weight, self.bias)\n",
    "        \n",
    "        # Here goes TABU\n",
    "        if self.firstItr == True:\n",
    "            \n",
    "            self.firstItr = False\n",
    "            for i in range(0, len(output[0])):\n",
    "                if output[0][i] < 0:\n",
    "                    # Neuron will be dropped\n",
    "                    self.tabu[i] = 0\n",
    "        else:\n",
    "            temp_tabu = initMatrix(len(output[0])) \n",
    "            \n",
    "            for i in range(0, len(output[0])):\n",
    "                if output[0][i] < 0:\n",
    "                    # Neuron will be dropped\n",
    "                    temp_tabu[i] = 0\n",
    "            for i in range(0, len(output[0])):\n",
    "                if (self.tabu[i] == 0 and temp_tabu[i] == 0):\n",
    "                    # Neuron will be dropped\n",
    "                    self.tabu[i] = 1\n",
    "                    print(output)\n",
    "                    output[0][i] = input[0][i]\n",
    "                    print(input)\n",
    "                else:\n",
    "                    self.tabu[i] = temp_tabu[i]\n",
    "        \n",
    "        return output\n",
    "        "
   ]
  },
  {
   "cell_type": "code",
   "execution_count": 54,
   "metadata": {
    "colab": {},
    "colab_type": "code",
    "id": "oPm0tWSOHGUF"
   },
   "outputs": [],
   "source": [
    "tabu1 = initMatrix(1024)\n",
    "tabu2 = initMatrix(1024)\n",
    "#tabu3 = initMatrix(512)"
   ]
  },
  {
   "cell_type": "code",
   "execution_count": 55,
   "metadata": {
    "colab": {},
    "colab_type": "code",
    "id": "Ei-XUUvmHGUO"
   },
   "outputs": [],
   "source": [
    "import torch.nn as nn\n",
    "import torch.nn.functional as F\n",
    "import torch.optim as optim\n",
    "\n",
    "class Net(nn.Module):\n",
    "    def __init__(self):\n",
    "        super(Net, self).__init__()\n",
    "       \n",
    "        # define the layers and their sizes, turn off bias\n",
    "        self.fc1 = nn.Linear(3072, 1024)\n",
    "        self.d1 = MyLinear(1024, 1024, 0.5, tabu1) #nn.Dropout(0.5) #      \n",
    "        \n",
    "        #self.d2 = nn.Dropout(0.5)\n",
    "        #self.dT = MyLinear(1024, 1024, 0.5, tabu2) \n",
    "        #self.fc2 = nn.Linear(1024, 1024)\n",
    "        #self.d2 = Dropout(0.05) \n",
    "        #self.fc3 = nn.Linear(1024, 1024)\n",
    "        \n",
    "        #For CIFAR-10\n",
    "        #self.d3 = Dropout(0.3) \n",
    "        #self.fc3_1 = nn.Linear(512, 256)\n",
    "        \n",
    "        self.fc4 = nn.Linear(1024, 10)\n",
    "        \n",
    "\n",
    "    def forward(self, x):\n",
    "        x = x.view(-1, 3072)\n",
    "        \n",
    "        x = F.relu(self.fc1(x))\n",
    "        x = F.relu(self.d1(x))\n",
    "        \n",
    "        #x = F.relu(self.dT(x))\n",
    "        #x = F.relu(self.fc2(x))\n",
    "        \n",
    "        #x = F.relu(self.d2(x))\n",
    "        #x = F.relu(self.fc3(x))\n",
    "        \n",
    "        # for CIFAR-10\n",
    "        #x = F.relu(self.d3(x))\n",
    "        #x = F.relu(self.fc3_1(x))\n",
    "        x = self.fc4(x)\n",
    "        return F.log_softmax(x)"
   ]
  },
  {
   "cell_type": "code",
   "execution_count": 56,
   "metadata": {
    "colab": {},
    "colab_type": "code",
    "id": "9jp8qjX7HGUa"
   },
   "outputs": [],
   "source": [
    "network = Net()\n",
    "optimizer = optim.SGD(network.parameters(), lr=learning_rate)"
   ]
  },
  {
   "cell_type": "code",
   "execution_count": 57,
   "metadata": {
    "colab": {},
    "colab_type": "code",
    "id": "HgE1I92yHGVA"
   },
   "outputs": [],
   "source": [
    "avg_train_loss = []\n",
    "avg_train_counter = []\n",
    "avg_test_loss = []\n",
    "avg_test_counter = []\n",
    "test_accuracy_list = []\n",
    "\n",
    "test_losses = []\n",
    "test_counter = []\n",
    "\n",
    "epoch_number = 0\n",
    "train_avg_loss = 0\n",
    "test_avg_loss = 0"
   ]
  },
  {
   "cell_type": "code",
   "execution_count": 58,
   "metadata": {
    "colab": {},
    "colab_type": "code",
    "id": "aGOcLvQ2HGVG"
   },
   "outputs": [],
   "source": [
    "def train(epoch):\n",
    "  \n",
    "    train_losses = []\n",
    "    train_counter = []\n",
    "    \n",
    "    network.train()\n",
    "    for batch_idx, (data, target) in enumerate(train_loader):\n",
    "        optimizer.zero_grad()\n",
    "        output = network(data)\n",
    "        loss = F.nll_loss(output, target)\n",
    "        loss.backward()\n",
    "        optimizer.step()\n",
    "        if batch_idx % log_interval == 0:\n",
    "            print('Train Epoch: {} [{}/{} ({:.0f}%)]\\tLoss: {:.6f}'.format(\n",
    "                epoch, batch_idx * len(data), len(train_loader.dataset),\n",
    "                100. * batch_idx / len(train_loader), loss.item()))\n",
    "            train_losses.append(loss.item())\n",
    "            train_counter.append((batch_idx*64) + ((epoch-1)*len(train_loader.dataset)))\n",
    "            torch.save(network.state_dict(), './results/cifar10_with_tabu_model.pth')\n",
    "            torch.save(optimizer.state_dict(), './results/cifar10_with_tabu_optimizer.pth')\n",
    "            #test(epoch, False)\n",
    "            \n",
    "    sum = 0.0\n",
    "    for loss in train_losses:\n",
    "        sum = sum + loss\n",
    "    \n",
    "    avg_train_loss.append(sum / len(train_losses))"
   ]
  },
  {
   "cell_type": "code",
   "execution_count": 59,
   "metadata": {
    "colab": {},
    "colab_type": "code",
    "id": "qwqm3AuCHGVM"
   },
   "outputs": [],
   "source": [
    "def test(epoch):\n",
    "    network.eval()\n",
    "    test_loss = 0\n",
    "    correct = 0\n",
    "    with torch.no_grad():\n",
    "        for data, target in test_loader:\n",
    "        #iterator = iter(test_loader)\n",
    "        #data, target= iterator.next() \n",
    "        \n",
    "            examples = enumerate(test_loader)\n",
    "            batch_idx, (example_data, example_targets) = next(examples)  \n",
    "            output = network(data)\n",
    "            test_loss += F.nll_loss(output, target, size_average=False).item()\n",
    "            pred = output.data.max(1, keepdim=True)[1]\n",
    "            correct += pred.eq(target.data.view_as(pred)).sum()\n",
    "\n",
    "    test_loss /= len(test_loader.dataset)\n",
    "    avg_test_loss.append(test_loss)\n",
    "    test_counter.append((batch_idx*64) + ((epoch-1)*len(test_loader.dataset)))\n",
    "    test_accuracy_list.append(100. * correct / len(test_loader.dataset))\n",
    "    \n",
    "    print('Test set: Avg. loss: {:.4f}, Accuracy: {}/{} ({:.0f}%)\\n'.format(\n",
    "        test_loss, correct, len(test_loader.dataset),\n",
    "        100. * correct / len(test_loader.dataset)))\n",
    "   "
   ]
  },
  {
   "cell_type": "code",
   "execution_count": 60,
   "metadata": {
    "colab": {
     "base_uri": "https://localhost:8080/",
     "height": 28543
    },
    "colab_type": "code",
    "id": "77ZTDVwnHGVS",
    "outputId": "62a668ee-8b73-4fa1-c163-1c99a83244a0",
    "scrolled": true
   },
   "outputs": [
    {
     "name": "stderr",
     "output_type": "stream",
     "text": [
      "/home/akash/anaconda3/lib/python3.7/site-packages/ipykernel_launcher.py:42: UserWarning: Implicit dimension choice for log_softmax has been deprecated. Change the call to include dim=X as an argument.\n"
     ]
    },
    {
     "name": "stdout",
     "output_type": "stream",
     "text": [
      "Train Epoch: 1 [0/50000 (0%)]\tLoss: 2.315689\n",
      "Problem\n",
      "Problem\n",
      "Problem\n",
      "Problem\n",
      "Problem\n",
      "Problem\n",
      "Problem\n",
      "Problem\n",
      "Problem\n",
      "Problem\n",
      "Problem\n",
      "Problem\n",
      "Problem\n",
      "Problem\n",
      "Problem\n",
      "Problem\n",
      "Problem\n",
      "Problem\n",
      "Problem\n",
      "Problem\n",
      "Problem\n",
      "Problem\n",
      "Problem\n",
      "Problem\n",
      "Problem\n",
      "Problem\n",
      "Problem\n",
      "Problem\n",
      "Problem\n",
      "Problem\n",
      "Problem\n",
      "Problem\n",
      "Problem\n",
      "Problem\n",
      "Problem\n",
      "Problem\n",
      "Problem\n",
      "Problem\n",
      "Problem\n",
      "Problem\n",
      "Problem\n",
      "Problem\n",
      "Problem\n",
      "Problem\n",
      "Problem\n",
      "Problem\n",
      "Problem\n",
      "Problem\n",
      "Problem\n",
      "Problem\n",
      "Problem\n",
      "Problem\n",
      "Problem\n",
      "Problem\n",
      "Problem\n",
      "Problem\n",
      "Problem\n",
      "Problem\n",
      "Problem\n",
      "Problem\n",
      "Problem\n",
      "Problem\n",
      "Problem\n",
      "Problem\n",
      "Problem\n",
      "Problem\n",
      "Problem\n",
      "Problem\n",
      "Problem\n",
      "Problem\n",
      "Problem\n",
      "Problem\n",
      "Problem\n",
      "Problem\n",
      "Problem\n",
      "Problem\n",
      "Problem\n",
      "Problem\n",
      "Problem\n",
      "Problem\n",
      "Problem\n",
      "Problem\n",
      "Problem\n",
      "Problem\n",
      "Problem\n",
      "Problem\n",
      "Problem\n",
      "Problem\n",
      "Problem\n",
      "Problem\n",
      "Problem\n",
      "Problem\n",
      "Problem\n",
      "Problem\n",
      "Problem\n",
      "Problem\n",
      "Problem\n",
      "Problem\n",
      "Problem\n",
      "Problem\n",
      "Problem\n",
      "Problem\n",
      "Problem\n",
      "Problem\n",
      "Problem\n",
      "Problem\n",
      "Problem\n",
      "Problem\n",
      "Problem\n",
      "Problem\n",
      "Problem\n",
      "Problem\n",
      "Problem\n",
      "Problem\n",
      "Problem\n",
      "Problem\n",
      "Problem\n",
      "Problem\n",
      "Problem\n",
      "Problem\n",
      "Problem\n",
      "Problem\n",
      "Problem\n",
      "Problem\n",
      "Problem\n",
      "Problem\n",
      "Problem\n",
      "Problem\n",
      "Problem\n",
      "Problem\n",
      "Problem\n",
      "Problem\n",
      "Problem\n",
      "Problem\n",
      "Problem\n",
      "Problem\n",
      "Problem\n",
      "Problem\n",
      "Problem\n",
      "Problem\n",
      "Problem\n",
      "Problem\n",
      "Problem\n",
      "Problem\n",
      "Problem\n",
      "Problem\n",
      "Problem\n",
      "Problem\n",
      "Problem\n",
      "Problem\n",
      "Problem\n",
      "Problem\n",
      "Problem\n",
      "Problem\n",
      "Problem\n",
      "Problem\n",
      "Problem\n",
      "Problem\n",
      "Problem\n",
      "Problem\n",
      "Problem\n",
      "Problem\n",
      "Problem\n",
      "Problem\n",
      "Problem\n",
      "Problem\n",
      "Problem\n",
      "Problem\n",
      "Problem\n",
      "Problem\n",
      "Problem\n",
      "Problem\n",
      "Problem\n",
      "Problem\n",
      "Problem\n",
      "Problem\n",
      "Problem\n",
      "Problem\n",
      "Problem\n",
      "Problem\n",
      "Problem\n",
      "Problem\n",
      "Problem\n",
      "Problem\n",
      "Problem\n",
      "Problem\n",
      "Problem\n",
      "Problem\n",
      "Problem\n",
      "Problem\n",
      "Problem\n",
      "Problem\n",
      "Problem\n",
      "Problem\n",
      "Problem\n",
      "Problem\n",
      "Problem\n",
      "Problem\n",
      "Problem\n",
      "Problem\n",
      "Problem\n",
      "Problem\n",
      "Problem\n",
      "Problem\n",
      "Problem\n",
      "Problem\n",
      "Problem\n",
      "Problem\n",
      "Problem\n",
      "Problem\n",
      "Problem\n",
      "Problem\n",
      "Problem\n",
      "Problem\n",
      "Problem\n",
      "Problem\n",
      "Problem\n",
      "Problem\n",
      "Problem\n",
      "Problem\n",
      "Problem\n",
      "Problem\n",
      "Problem\n",
      "Problem\n",
      "Problem\n",
      "Problem\n",
      "Problem\n",
      "Problem\n",
      "Problem\n",
      "Problem\n",
      "Problem\n",
      "Problem\n",
      "Problem\n",
      "Problem\n",
      "Problem\n",
      "Problem\n",
      "Problem\n",
      "Problem\n",
      "Problem\n",
      "Problem\n",
      "Problem\n",
      "Problem\n",
      "Problem\n",
      "Problem\n",
      "Problem\n",
      "Problem\n",
      "Problem\n",
      "Problem\n",
      "Problem\n",
      "Problem\n",
      "Problem\n",
      "Problem\n",
      "Problem\n",
      "Problem\n",
      "Problem\n",
      "Problem\n",
      "Problem\n",
      "Problem\n",
      "Problem\n",
      "Problem\n",
      "Problem\n",
      "Problem\n",
      "Problem\n",
      "Problem\n",
      "Problem\n",
      "Problem\n",
      "Problem\n",
      "Problem\n",
      "Problem\n",
      "Problem\n",
      "Problem\n",
      "Problem\n",
      "Problem\n",
      "Problem\n",
      "Problem\n",
      "Problem\n",
      "Problem\n",
      "Problem\n",
      "Problem\n",
      "Problem\n",
      "Problem\n",
      "Problem\n",
      "Problem\n"
     ]
    },
    {
     "ename": "RuntimeError",
     "evalue": "one of the variables needed for gradient computation has been modified by an inplace operation",
     "output_type": "error",
     "traceback": [
      "\u001b[0;31m---------------------------------------------------------------------------\u001b[0m",
      "\u001b[0;31mRuntimeError\u001b[0m                              Traceback (most recent call last)",
      "\u001b[0;32m<ipython-input-60-dab8d0747e7f>\u001b[0m in \u001b[0;36m<module>\u001b[0;34m\u001b[0m\n\u001b[1;32m      1\u001b[0m \u001b[0;31m#test()\u001b[0m\u001b[0;34m\u001b[0m\u001b[0;34m\u001b[0m\u001b[0;34m\u001b[0m\u001b[0m\n\u001b[1;32m      2\u001b[0m \u001b[0;32mfor\u001b[0m \u001b[0mepoch\u001b[0m \u001b[0;32min\u001b[0m \u001b[0mrange\u001b[0m\u001b[0;34m(\u001b[0m\u001b[0;36m1\u001b[0m\u001b[0;34m,\u001b[0m \u001b[0mn_epochs\u001b[0m \u001b[0;34m+\u001b[0m \u001b[0;36m1\u001b[0m\u001b[0;34m)\u001b[0m\u001b[0;34m:\u001b[0m\u001b[0;34m\u001b[0m\u001b[0;34m\u001b[0m\u001b[0m\n\u001b[0;32m----> 3\u001b[0;31m     \u001b[0mtrain\u001b[0m\u001b[0;34m(\u001b[0m\u001b[0mepoch\u001b[0m\u001b[0;34m)\u001b[0m\u001b[0;34m\u001b[0m\u001b[0;34m\u001b[0m\u001b[0m\n\u001b[0m\u001b[1;32m      4\u001b[0m     \u001b[0mtest\u001b[0m\u001b[0;34m(\u001b[0m\u001b[0mepoch\u001b[0m\u001b[0;34m)\u001b[0m\u001b[0;34m\u001b[0m\u001b[0;34m\u001b[0m\u001b[0m\n",
      "\u001b[0;32m<ipython-input-58-fe5f8e67b1c2>\u001b[0m in \u001b[0;36mtrain\u001b[0;34m(epoch)\u001b[0m\n\u001b[1;32m      9\u001b[0m         \u001b[0moutput\u001b[0m \u001b[0;34m=\u001b[0m \u001b[0mnetwork\u001b[0m\u001b[0;34m(\u001b[0m\u001b[0mdata\u001b[0m\u001b[0;34m)\u001b[0m\u001b[0;34m\u001b[0m\u001b[0;34m\u001b[0m\u001b[0m\n\u001b[1;32m     10\u001b[0m         \u001b[0mloss\u001b[0m \u001b[0;34m=\u001b[0m \u001b[0mF\u001b[0m\u001b[0;34m.\u001b[0m\u001b[0mnll_loss\u001b[0m\u001b[0;34m(\u001b[0m\u001b[0moutput\u001b[0m\u001b[0;34m,\u001b[0m \u001b[0mtarget\u001b[0m\u001b[0;34m)\u001b[0m\u001b[0;34m\u001b[0m\u001b[0;34m\u001b[0m\u001b[0m\n\u001b[0;32m---> 11\u001b[0;31m         \u001b[0mloss\u001b[0m\u001b[0;34m.\u001b[0m\u001b[0mbackward\u001b[0m\u001b[0;34m(\u001b[0m\u001b[0;34m)\u001b[0m\u001b[0;34m\u001b[0m\u001b[0;34m\u001b[0m\u001b[0m\n\u001b[0m\u001b[1;32m     12\u001b[0m         \u001b[0moptimizer\u001b[0m\u001b[0;34m.\u001b[0m\u001b[0mstep\u001b[0m\u001b[0;34m(\u001b[0m\u001b[0;34m)\u001b[0m\u001b[0;34m\u001b[0m\u001b[0;34m\u001b[0m\u001b[0m\n\u001b[1;32m     13\u001b[0m         \u001b[0;32mif\u001b[0m \u001b[0mbatch_idx\u001b[0m \u001b[0;34m%\u001b[0m \u001b[0mlog_interval\u001b[0m \u001b[0;34m==\u001b[0m \u001b[0;36m0\u001b[0m\u001b[0;34m:\u001b[0m\u001b[0;34m\u001b[0m\u001b[0;34m\u001b[0m\u001b[0m\n",
      "\u001b[0;32m~/anaconda3/lib/python3.7/site-packages/torch/tensor.py\u001b[0m in \u001b[0;36mbackward\u001b[0;34m(self, gradient, retain_graph, create_graph)\u001b[0m\n\u001b[1;32m    100\u001b[0m                 \u001b[0mproducts\u001b[0m\u001b[0;34m.\u001b[0m \u001b[0mDefaults\u001b[0m \u001b[0mto\u001b[0m\u001b[0;31m \u001b[0m\u001b[0;31m`\u001b[0m\u001b[0;31m`\u001b[0m\u001b[0;32mFalse\u001b[0m\u001b[0;31m`\u001b[0m\u001b[0;31m`\u001b[0m\u001b[0;34m.\u001b[0m\u001b[0;34m\u001b[0m\u001b[0;34m\u001b[0m\u001b[0m\n\u001b[1;32m    101\u001b[0m         \"\"\"\n\u001b[0;32m--> 102\u001b[0;31m         \u001b[0mtorch\u001b[0m\u001b[0;34m.\u001b[0m\u001b[0mautograd\u001b[0m\u001b[0;34m.\u001b[0m\u001b[0mbackward\u001b[0m\u001b[0;34m(\u001b[0m\u001b[0mself\u001b[0m\u001b[0;34m,\u001b[0m \u001b[0mgradient\u001b[0m\u001b[0;34m,\u001b[0m \u001b[0mretain_graph\u001b[0m\u001b[0;34m,\u001b[0m \u001b[0mcreate_graph\u001b[0m\u001b[0;34m)\u001b[0m\u001b[0;34m\u001b[0m\u001b[0;34m\u001b[0m\u001b[0m\n\u001b[0m\u001b[1;32m    103\u001b[0m \u001b[0;34m\u001b[0m\u001b[0m\n\u001b[1;32m    104\u001b[0m     \u001b[0;32mdef\u001b[0m \u001b[0mregister_hook\u001b[0m\u001b[0;34m(\u001b[0m\u001b[0mself\u001b[0m\u001b[0;34m,\u001b[0m \u001b[0mhook\u001b[0m\u001b[0;34m)\u001b[0m\u001b[0;34m:\u001b[0m\u001b[0;34m\u001b[0m\u001b[0;34m\u001b[0m\u001b[0m\n",
      "\u001b[0;32m~/anaconda3/lib/python3.7/site-packages/torch/autograd/__init__.py\u001b[0m in \u001b[0;36mbackward\u001b[0;34m(tensors, grad_tensors, retain_graph, create_graph, grad_variables)\u001b[0m\n\u001b[1;32m     88\u001b[0m     Variable._execution_engine.run_backward(\n\u001b[1;32m     89\u001b[0m         \u001b[0mtensors\u001b[0m\u001b[0;34m,\u001b[0m \u001b[0mgrad_tensors\u001b[0m\u001b[0;34m,\u001b[0m \u001b[0mretain_graph\u001b[0m\u001b[0;34m,\u001b[0m \u001b[0mcreate_graph\u001b[0m\u001b[0;34m,\u001b[0m\u001b[0;34m\u001b[0m\u001b[0;34m\u001b[0m\u001b[0m\n\u001b[0;32m---> 90\u001b[0;31m         allow_unreachable=True)  # allow_unreachable flag\n\u001b[0m\u001b[1;32m     91\u001b[0m \u001b[0;34m\u001b[0m\u001b[0m\n\u001b[1;32m     92\u001b[0m \u001b[0;34m\u001b[0m\u001b[0m\n",
      "\u001b[0;31mRuntimeError\u001b[0m: one of the variables needed for gradient computation has been modified by an inplace operation"
     ]
    }
   ],
   "source": [
    "#test()\n",
    "for epoch in range(1, n_epochs + 1):\n",
    "    train(epoch)\n",
    "    test(epoch)"
   ]
  },
  {
   "cell_type": "code",
   "execution_count": 34,
   "metadata": {
    "colab": {},
    "colab_type": "code",
    "id": "L4FxFNbjHGVZ",
    "scrolled": true
   },
   "outputs": [
    {
     "data": {
      "text/plain": [
       "<matplotlib.collections.PathCollection at 0x7f06766e5ba8>"
      ]
     },
     "execution_count": 34,
     "metadata": {},
     "output_type": "execute_result"
    },
    {
     "data": {
      "image/png": "[encoded data removed]",
      "text/plain": [
       "<Figure size 432x288 with 1 Axes>"
      ]
     },
     "metadata": {
      "needs_background": "light"
     },
     "output_type": "display_data"
    }
   ],
   "source": [
    "import matplotlib.pyplot as plt\n",
    "\n",
    "fig = plt.figure()\n",
    "\n",
    "final_train_counter = []\n",
    "final_train_losses = []\n",
    "final_test_counter = []\n",
    "final_test_losses = []\n",
    "\n",
    "for i in range(0, n_epochs):\n",
    "    final_train_counter.append(i)\n",
    "\"\"\"\n",
    "for i in range(0, len(avg_train_loss)-1, 30):\n",
    "    index = int(i/10)\n",
    "    final_train_counter.append(train_counter[i])\n",
    "    final_train_losses.append((train_losses[i] + train_losses[i+1]) / 2)\n",
    "    final_test_counter.append(train_counter[i])\n",
    "    final_test_losses.append((test_losses[i] + test_losses[i+1]) / 2)\n",
    "\n",
    "final_train_counter.append(train_counter[len(train_counter)-1]) \n",
    "final_train_losses.append(train_losses[len(train_counter)-1])\n",
    "final_test_counter.append(train_counter[len(train_counter)-1])\n",
    "final_test_losses.append(test_losses[len(train_counter)-1])    \n",
    "    \n",
    "plt.plot(len(avg_train_loss), avg_train_loss, color='blue')\n",
    "plt.scatter(avg_train_loss[-1], avg_train_loss[-1], color='blue')\n",
    "plt.plot(len(avg_test_losses), avg_test_losses, color='red')\n",
    "plt.scatter(avg_test_losses[-1], avg_test_losses[-1], color='red')\n",
    "\n",
    "# print(len(test_counter))\n",
    "# print(len(test_losses))\n",
    "\n",
    "plt.legend(['Train Loss', 'Test Loss'], loc='upper right')\n",
    "plt.xlabel('number of training examples seen')\n",
    "plt.ylabel('negative log likelihood loss')\n",
    "\"\"\"\n",
    "\n",
    "final_avg_train_loss = []\n",
    "final_avg_test_loss = []\n",
    "u_final_train_counter = []\n",
    "\n",
    "\n",
    "for i in range(0, len(avg_train_loss)-1):\n",
    "    final_avg_train_loss.append(avg_train_loss[i])\n",
    "    final_avg_test_loss.append(avg_test_loss[i])\n",
    "    u_final_train_counter.append(final_train_counter[i])\n",
    "\n",
    "plt.plot(u_final_train_counter, final_avg_train_loss, color='blue')\n",
    "plt.scatter(u_final_train_counter[-1], final_avg_train_loss[-1], color='blue')\n",
    "plt.plot(u_final_train_counter, final_avg_test_loss, color='red')\n",
    "plt.scatter(u_final_train_counter[-1], final_avg_test_loss[-1], color='red')\n",
    "# plt.plot(final_train_counter, test_accuracy_list, color='orange')"
   ]
  },
  {
   "cell_type": "code",
   "execution_count": 35,
   "metadata": {
    "colab": {},
    "colab_type": "code",
    "id": "ll_M7oI5kleI"
   },
   "outputs": [
    {
     "data": {
      "text/plain": [
       "[<matplotlib.lines.Line2D at 0x7f06767e5470>]"
      ]
     },
     "execution_count": 35,
     "metadata": {},
     "output_type": "execute_result"
    },
    {
     "data": {
      "image/png": "[encoded data removed]",
      "text/plain": [
       "<Figure size 432x288 with 1 Axes>"
      ]
     },
     "metadata": {
      "needs_background": "light"
     },
     "output_type": "display_data"
    }
   ],
   "source": [
    "import matplotlib.pyplot as plt\n",
    "\n",
    "fig = plt.figure()\n",
    "\n",
    "last_acc = []\n",
    "last_counter = []\n",
    "index = 0\n",
    "for acc in range(0, len(test_accuracy_list)-1) :\n",
    "    last_acc.append(test_accuracy_list[acc])\n",
    "    last_counter.append(final_train_counter[index])\n",
    "    index = index + 1\n",
    "\n",
    "plt.plot(last_counter, last_acc, color='red')\n"
   ]
  },
  {
   "cell_type": "code",
   "execution_count": 36,
   "metadata": {},
   "outputs": [],
   "source": [
    "import matplotlib.pyplot as plt\n",
    "import plotter\n",
    "\n",
    "acc1 = plotter.SavedAccuracy(name='cifar10_tabu_acc.pkl')\n",
    "acc1.saveGraph(last_acc, last_counter)\n",
    "#a, c = acc1.loadGraph()\n",
    "#plt.plot(c, a, color='red')\n"
   ]
  },
  {
   "cell_type": "code",
   "execution_count": 200,
   "metadata": {},
   "outputs": [
    {
     "data": {
      "text/plain": [
       "[<matplotlib.lines.Line2D at 0x7fde0ff782b0>]"
      ]
     },
     "execution_count": 200,
     "metadata": {},
     "output_type": "execute_result"
    },
    {
     "data": {
      "image/png": "[encoded data removed]",
      "text/plain": [
       "<Figure size 432x288 with 1 Axes>"
      ]
     },
     "metadata": {
      "needs_background": "light"
     },
     "output_type": "display_data"
    }
   ],
   "source": []
  },
  {
   "cell_type": "code",
   "execution_count": 99,
   "metadata": {
    "colab": {},
    "colab_type": "code",
    "id": "bJa35oEyHGVf"
   },
   "outputs": [
    {
     "name": "stderr",
     "output_type": "stream",
     "text": [
      "/home/akash/anaconda3/lib/python3.7/site-packages/ipykernel_launcher.py:42: UserWarning: Implicit dimension choice for log_softmax has been deprecated. Change the call to include dim=X as an argument.\n"
     ]
    },
    {
     "data": {
      "image/png": "[encoded data removed]",
      "text/plain": [
       "<Figure size 432x288 with 6 Axes>"
      ]
     },
     "metadata": {},
     "output_type": "display_data"
    },
    {
     "data": {
      "image/png": "[encoded data removed]",
      "text/plain": [
       "<Figure size 432x288 with 6 Axes>"
      ]
     },
     "metadata": {},
     "output_type": "display_data"
    },
    {
     "data": {
      "image/png": "[encoded data removed]",
      "text/plain": [
       "<Figure size 432x288 with 6 Axes>"
      ]
     },
     "metadata": {},
     "output_type": "display_data"
    },
    {
     "data": {
      "image/png": "[encoded data removed]",
      "text/plain": [
       "<Figure size 432x288 with 6 Axes>"
      ]
     },
     "metadata": {},
     "output_type": "display_data"
    },
    {
     "data": {
      "image/png": "[encoded data removed]",
      "text/plain": [
       "<Figure size 432x288 with 6 Axes>"
      ]
     },
     "metadata": {},
     "output_type": "display_data"
    },
    {
     "data": {
      "image/png": "[encoded data removed]",
      "text/plain": [
       "<Figure size 432x288 with 6 Axes>"
      ]
     },
     "metadata": {},
     "output_type": "display_data"
    },
    {
     "data": {
      "image/png": "[encoded data removed]",
      "text/plain": [
       "<Figure size 432x288 with 6 Axes>"
      ]
     },
     "metadata": {},
     "output_type": "display_data"
    },
    {
     "data": {
      "image/png": "[encoded data removed]",
      "text/plain": [
       "<Figure size 432x288 with 6 Axes>"
      ]
     },
     "metadata": {},
     "output_type": "display_data"
    },
    {
     "data": {
      "image/png": "[encoded data removed]",
      "text/plain": [
       "<Figure size 432x288 with 6 Axes>"
      ]
     },
     "metadata": {},
     "output_type": "display_data"
    },
    {
     "data": {
      "image/png": "[encoded data removed]",
      "text/plain": [
       "<Figure size 432x288 with 6 Axes>"
      ]
     },
     "metadata": {},
     "output_type": "display_data"
    }
   ],
   "source": [
    "def makeCifar10Dec(param):\n",
    "    if param == 0:\n",
    "        return \"airplane\"\n",
    "    elif param == 1:\n",
    "        return \"automobile\"\n",
    "    elif param == 2:\n",
    "        return \"bird\"\n",
    "    elif param == 3:\n",
    "        return \"cat\"\n",
    "    elif param == 4:\n",
    "        return \"deer\"\n",
    "    elif param == 5:\n",
    "        return \"dog\"\n",
    "    elif param == 6:\n",
    "        return \"frog\"\n",
    "    elif param == 7:\n",
    "        return \"horse\"\n",
    "    elif param == 8:\n",
    "        return \"ship\"\n",
    "    elif param == 9:\n",
    "        return \"truck\"\n",
    "    \n",
    "\n",
    "examples = enumerate(test_loader)\n",
    "for i in range(0, 10):\n",
    "    batch_idx, (example_data, example_targets) = next(examples)\n",
    "  \n",
    "    with torch.no_grad():\n",
    "        output = network(example_data)\n",
    "\n",
    "        fig = plt.figure()\n",
    "        for i in range(6):\n",
    "            plt.subplot(2,3,i+1)\n",
    "            plt.tight_layout()\n",
    "            plt.imshow(example_data[i][0], cmap='gray', interpolation='none')\n",
    "            plt.title(\"Prediction: {}\".format(\n",
    "                output.data.max(1, keepdim=True)[1][i].item()))\n",
    "            plt.xticks([])\n",
    "            plt.yticks([])\n"
   ]
  },
  {
   "cell_type": "code",
   "execution_count": 0,
   "metadata": {
    "colab": {},
    "colab_type": "code",
    "id": "Adlhca7pHGVo"
   },
   "outputs": [],
   "source": [
    "# Reloading a already saved model\n",
    "'''\n",
    "import matplotlib.pyplot as plt\n",
    "\n",
    "continued_network = Net()\n",
    "continued_optimizer = optim.SGD(continued_network.parameters(), lr=learning_rate,\n",
    "                                momentum=momentum)\n",
    "\n",
    "network_state_dict = torch.load('./results/model.pth')\n",
    "continued_network.load_state_dict(network_state_dict)\n",
    "\n",
    "optimizer_state_dict = torch.load('./results/optimizer.pth')\n",
    "continued_optimizer.load_state_dict(optimizer_state_dict)\n",
    "\n",
    "examples = enumerate(test_loader)\n",
    "for i in range(0, 2):\n",
    "    batch_idx, (example_data, example_targets) = next(examples)\n",
    "\n",
    "    with torch.no_grad():\n",
    "        output = continued_network(example_data)\n",
    "\n",
    "        fig = plt.figure()\n",
    "        for i in range(6):\n",
    "            plt.subplot(2,3,i+1)\n",
    "            plt.tight_layout()\n",
    "            plt.imshow(example_data[i][0], cmap='gray', interpolation='none')\n",
    "            plt.title(\"Prediction: {}\".format(\n",
    "                output.data.max(1, keepdim=True)[1][i].item()))\n",
    "            \n",
    "            plt.xticks([])\n",
    "            plt.yticks([])\n",
    "            \n",
    "'''"
   ]
  },
  {
   "cell_type": "code",
   "execution_count": 0,
   "metadata": {
    "colab": {},
    "colab_type": "code",
    "id": "SLlTgHruHGVt"
   },
   "outputs": [],
   "source": []
  }
 ],
 "metadata": {
  "colab": {
   "collapsed_sections": [],
   "name": "NN Tabu.ipynb",
   "provenance": [],
   "version": "0.3.2"
  },
  "kernelspec": {
   "display_name": "Python 3",
   "language": "python",
   "name": "python3"
  },
  "language_info": {
   "codemirror_mode": {
    "name": "ipython",
    "version": 3
   },
   "file_extension": ".py",
   "mimetype": "text/x-python",
   "name": "python",
   "nbconvert_exporter": "python",
   "pygments_lexer": "ipython3",
   "version": "3.7.1"
  }
 },
 "nbformat": 4,
 "nbformat_minor": 1
}
